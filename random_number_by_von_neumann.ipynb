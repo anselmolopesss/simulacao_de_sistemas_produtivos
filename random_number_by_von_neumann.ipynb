{
  "nbformat": 4,
  "nbformat_minor": 0,
  "metadata": {
    "colab": {
      "provenance": [],
      "authorship_tag": "ABX9TyOCR0g3HqHq+S62QtHQDx1K",
      "include_colab_link": true
    },
    "kernelspec": {
      "name": "python3",
      "display_name": "Python 3"
    },
    "language_info": {
      "name": "python"
    }
  },
  "cells": [
    {
      "cell_type": "markdown",
      "metadata": {
        "id": "view-in-github",
        "colab_type": "text"
      },
      "source": [
        "<a href=\"https://colab.research.google.com/github/anselmolopesss/simulacao_de_sistemas_produtivos/blob/main/random_number_by_von_neumann.ipynb\" target=\"_parent\"><img src=\"https://colab.research.google.com/assets/colab-badge.svg\" alt=\"Open In Colab\"/></a>"
      ]
    },
    {
      "cell_type": "code",
      "execution_count": null,
      "metadata": {
        "id": "NCcHT7RN0LfF"
      },
      "outputs": [],
      "source": [
        "def makeRandom(seed, maxReps = 10):\n",
        "\n",
        "  if len(str(seed)) != 4:\n",
        "    return 'Invalid value. The seed that have 4 algarismes'\n",
        "\n",
        "  randValues = []\n",
        "  vl = seed\n",
        "\n",
        "  flag= True\n",
        "  while flag:\n",
        "\n",
        "    if len(randValues) >= maxReps:\n",
        "      break;\n",
        "    value = vl/10000\n",
        "\n",
        "    if value in randValues:\n",
        "      flag = False\n",
        "      break\n",
        "\n",
        "    randValues.append(value);\n",
        "\n",
        "    vl = vl ** 2\n",
        "    flag2 = True\n",
        "    c = 0\n",
        "\n",
        "    while flag2:\n",
        "\n",
        "      if len(str(vl)[c:len(str(vl))]) != 4:\n",
        "        c+=1\n",
        "      else:\n",
        "        vl = int(str(vl)[c:len(str(vl))])\n",
        "        flag2 = False\n",
        "\n",
        "  print('tamanho ', len(randValues))\n",
        "  return randValues\n",
        "\n"
      ]
    },
    {
      "cell_type": "code",
      "source": [
        "makeRandom(seed=5999, maxReps=10000)"
      ],
      "metadata": {
        "colab": {
          "base_uri": "https://localhost:8080/"
        },
        "id": "T2VSzh6cGVGt",
        "outputId": "08a9b302-7c46-4e88-984e-3f1de3b9cf08"
      },
      "execution_count": null,
      "outputs": [
        {
          "output_type": "stream",
          "name": "stdout",
          "text": [
            "tamanho  5\n"
          ]
        },
        {
          "output_type": "execute_result",
          "data": {
            "text/plain": [
              "[0.5999, 0.8001, 0.6001, 0.2001, 0.4001]"
            ]
          },
          "metadata": {},
          "execution_count": 94
        }
      ]
    }
  ]
}